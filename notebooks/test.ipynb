{
 "cells": [
  {
   "cell_type": "code",
   "execution_count": 1,
   "id": "7f8151a0-6246-4243-beb2-110874a237f9",
   "metadata": {},
   "outputs": [],
   "source": [
    "import tensorflow as tf"
   ]
  },
  {
   "cell_type": "code",
   "execution_count": 1,
   "id": "f15490ed-131f-4871-baca-31fc54db64d7",
   "metadata": {},
   "outputs": [
    {
     "name": "stdout",
     "output_type": "stream",
     "text": [
      "Downloading data from https://storage.googleapis.com/tensorflow/tf-keras-datasets/mnist.npz\n",
      "11490434/11490434 [==============================] - 1s 0us/step\n"
     ]
    }
   ],
   "source": [
    "import tensorflow as tf\n",
    "from tensorflow.keras.datasets import mnist\n",
    "from tensorflow.keras.models import Sequential\n",
    "from tensorflow.keras.layers import Dense, Flatten\n",
    "from tensorflow.keras.utils import to_categorical\n",
    "\n",
    "# Load the MNIST dataset\n",
    "(train_images, train_labels), (test_images, test_labels) = mnist.load_data()\n",
    "\n",
    "# Normalize the images\n",
    "train_images = train_images / 255.0\n",
    "test_images = test_images / 255.0\n",
    "\n",
    "# Convert labels to one-hot encoding\n",
    "train_labels = to_categorical(train_labels)\n",
    "test_labels = to_categorical(test_labels)\n"
   ]
  },
  {
   "cell_type": "code",
   "execution_count": 14,
   "id": "4a2053d1",
   "metadata": {},
   "outputs": [
    {
     "name": "stdout",
     "output_type": "stream",
     "text": [
      "Available devices:\n",
      "PhysicalDevice(name='/physical_device:CPU:0', device_type='CPU')\n",
      "PhysicalDevice(name='/physical_device:GPU:0', device_type='GPU')\n"
     ]
    }
   ],
   "source": [
    "devices = tf.config.list_physical_devices()\n",
    "print(\"Available devices:\")\n",
    "for device in devices:\n",
    "    print(device)"
   ]
  },
  {
   "cell_type": "code",
   "execution_count": 16,
   "id": "038ab7e0",
   "metadata": {},
   "outputs": [],
   "source": [
    "def create_complex_model():\n",
    "    model = Sequential([\n",
    "        Flatten(input_shape=(28, 28)),\n",
    "        Dense(512, activation='relu'),\n",
    "        Dense(512, activation='relu'),\n",
    "        Dense(512, activation='relu'),\n",
    "        Dense(512, activation='relu'),\n",
    "        Dense(512, activation='relu'),\n",
    "        Dense(512, activation='relu'),\n",
    "        Dense(512, activation='relu'),\n",
    "        Dense(512, activation='relu'),\n",
    "        Dense(10, activation='softmax')\n",
    "    ])\n",
    "\n",
    "    model.compile(optimizer='adam',\n",
    "                  loss='categorical_crossentropy',\n",
    "                  metrics=['accuracy'])\n",
    "    return model\n"
   ]
  },
  {
   "cell_type": "code",
   "execution_count": 17,
   "id": "c5d20863",
   "metadata": {},
   "outputs": [
    {
     "data": {
      "text/plain": [
       "<tensorflow.python.eager.context._EagerDeviceContext at 0x301cbf5c0>"
      ]
     },
     "execution_count": 17,
     "metadata": {},
     "output_type": "execute_result"
    }
   ],
   "source": [
    "tf.device('/physical_device:GPU:0')"
   ]
  },
  {
   "cell_type": "code",
   "execution_count": 18,
   "id": "f1eaa516",
   "metadata": {},
   "outputs": [
    {
     "name": "stdout",
     "output_type": "stream",
     "text": [
      "Epoch 1/5\n",
      "  1/750 [..............................] - ETA: 5:05 - loss: 2.5306 - accuracy: 0.0781"
     ]
    },
    {
     "name": "stderr",
     "output_type": "stream",
     "text": [
      "2024-02-07 10:03:30.399266: I tensorflow/core/grappler/optimizers/custom_graph_optimizer_registry.cc:114] Plugin optimizer for device_type GPU is enabled.\n"
     ]
    },
    {
     "name": "stdout",
     "output_type": "stream",
     "text": [
      "750/750 [==============================] - ETA: 0s - loss: 147154560.0000 - accuracy: 0.3437"
     ]
    },
    {
     "name": "stderr",
     "output_type": "stream",
     "text": [
      "2024-02-07 10:03:43.577652: I tensorflow/core/grappler/optimizers/custom_graph_optimizer_registry.cc:114] Plugin optimizer for device_type GPU is enabled.\n"
     ]
    },
    {
     "name": "stdout",
     "output_type": "stream",
     "text": [
      "750/750 [==============================] - 16s 20ms/step - loss: 147154560.0000 - accuracy: 0.3437 - val_loss: 617360896.0000 - val_accuracy: 0.2733\n",
      "Epoch 2/5\n",
      "750/750 [==============================] - 15s 20ms/step - loss: 6987176448.0000 - accuracy: 0.2804 - val_loss: 19765962752.0000 - val_accuracy: 0.2605\n",
      "Epoch 3/5\n",
      "750/750 [==============================] - 14s 19ms/step - loss: 65215733760.0000 - accuracy: 0.2801 - val_loss: 160850231296.0000 - val_accuracy: 0.2674\n",
      "Epoch 4/5\n",
      "750/750 [==============================] - 16s 21ms/step - loss: 263432421376.0000 - accuracy: 0.2838 - val_loss: 408821071872.0000 - val_accuracy: 0.2527\n",
      "Epoch 5/5\n",
      "750/750 [==============================] - 16s 21ms/step - loss: 626745147392.0000 - accuracy: 0.2867 - val_loss: 1125936005120.0000 - val_accuracy: 0.2979\n",
      "Training with GPU took 76.45052790641785 seconds\n"
     ]
    }
   ],
   "source": [
    "import time\n",
    "\n",
    "gpu_model = create_complex_model()\n",
    "\n",
    "start_time_gpu = time.time()\n",
    "\n",
    "with tf.device('/GPU:0'):\n",
    "    gpu_model.fit(train_images, train_labels, epochs=5, batch_size=64, validation_split=0.2)\n",
    "\n",
    "end_time_gpu = time.time()\n",
    "\n",
    "print(f\"Training with GPU took {end_time_gpu - start_time_gpu} seconds\")\n"
   ]
  },
  {
   "cell_type": "code",
   "execution_count": 19,
   "id": "4d140183",
   "metadata": {},
   "outputs": [
    {
     "name": "stdout",
     "output_type": "stream",
     "text": [
      "Epoch 1/5\n",
      "  4/750 [..............................] - ETA: 12s - loss: 2.1885 - accuracy: 0.2891 "
     ]
    },
    {
     "name": "stderr",
     "output_type": "stream",
     "text": [
      "2024-02-07 10:04:51.393970: I tensorflow/core/grappler/optimizers/custom_graph_optimizer_registry.cc:114] Plugin optimizer for device_type GPU is enabled.\n"
     ]
    },
    {
     "name": "stdout",
     "output_type": "stream",
     "text": [
      "747/750 [============================>.] - ETA: 0s - loss: 0.2457 - accuracy: 0.9267"
     ]
    },
    {
     "name": "stderr",
     "output_type": "stream",
     "text": [
      "2024-02-07 10:05:04.125133: I tensorflow/core/grappler/optimizers/custom_graph_optimizer_registry.cc:114] Plugin optimizer for device_type GPU is enabled.\n"
     ]
    },
    {
     "name": "stdout",
     "output_type": "stream",
     "text": [
      "750/750 [==============================] - 15s 20ms/step - loss: 0.2455 - accuracy: 0.9267 - val_loss: 0.1285 - val_accuracy: 0.9622\n",
      "Epoch 2/5\n",
      "750/750 [==============================] - 21s 28ms/step - loss: 0.1135 - accuracy: 0.9676 - val_loss: 0.1338 - val_accuracy: 0.9628\n",
      "Epoch 3/5\n",
      "750/750 [==============================] - 15s 20ms/step - loss: 0.0804 - accuracy: 0.9765 - val_loss: 0.1098 - val_accuracy: 0.9712\n",
      "Epoch 4/5\n",
      "750/750 [==============================] - 13s 17ms/step - loss: 0.0634 - accuracy: 0.9821 - val_loss: 0.1014 - val_accuracy: 0.9756\n",
      "Epoch 5/5\n",
      "750/750 [==============================] - 12s 16ms/step - loss: 0.0543 - accuracy: 0.9846 - val_loss: 0.1343 - val_accuracy: 0.9674\n",
      "Training with CPU took 76.29821014404297 seconds\n"
     ]
    }
   ],
   "source": [
    "cpu_model = create_complex_model()\n",
    "\n",
    "start_time_cpu = time.time()\n",
    "\n",
    "with tf.device('/CPU:0'):\n",
    "    cpu_model.fit(train_images, train_labels, epochs=5, batch_size=64, validation_split=0.2)\n",
    "\n",
    "end_time_cpu = time.time()\n",
    "\n",
    "print(f\"Training with CPU took {end_time_cpu - start_time_cpu} seconds\")\n"
   ]
  },
  {
   "cell_type": "code",
   "execution_count": null,
   "id": "1a23d51d",
   "metadata": {},
   "outputs": [],
   "source": []
  }
 ],
 "metadata": {
  "kernelspec": {
   "display_name": "Python 3",
   "language": "python",
   "name": "python3"
  },
  "language_info": {
   "codemirror_mode": {
    "name": "ipython",
    "version": 3
   },
   "file_extension": ".py",
   "mimetype": "text/x-python",
   "name": "python",
   "nbconvert_exporter": "python",
   "pygments_lexer": "ipython3",
   "version": "3.8.18"
  }
 },
 "nbformat": 4,
 "nbformat_minor": 5
}
